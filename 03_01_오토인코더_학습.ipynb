{
 "cells": [
  {
   "cell_type": "markdown",
   "metadata": {},
   "source": [
    "# 오토인코더"
   ]
  },
  {
   "cell_type": "code",
   "execution_count": 1,
   "metadata": {},
   "outputs": [],
   "source": [
    "import os"
   ]
  },
  {
   "cell_type": "code",
   "execution_count": null,
   "metadata": {},
   "outputs": [],
   "source": [
    "from tensorflow.keras.datasets import mnist\n",
    "\n",
    "def load_mnist():\n",
    "    (x_train, y_train), (x_test, y_test) = mnist.load_data()\n",
    "\n",
    "    x_train = x_train.astype('float32') / 255.\n",
    "    x_test  = x_test.astype('float32') / 255.\n",
    "\n",
    "    x_train = x_train.reshape(x_train.shape + (1, ))\n",
    "    x_test  = x_test.reshape(x_test.shape + (1, ))\n",
    "\n",
    "    return (x_train, y_train), (x_test, y_test)"
   ]
  },
  {
   "cell_type": "code",
   "execution_count": null,
   "metadata": {},
   "outputs": [],
   "source": [
    "import tensorflow as tf\n",
    "from tensorflow.keras.layers import Input, Conv2D, LeakyReLU, BatchNormalization, Dropout, Flatten\n",
    "\n",
    "class AutoEncoder():\n",
    "    def __init__(self, \n",
    "                 input_dim, \n",
    "                 encoder_conv_filters, \n",
    "                 encoder_conv_kernel_size, \n",
    "                 encoder_conv_strides, \n",
    "                 decoder_conv_t_filters, \n",
    "                 decoder_conv_t_kernel_size,\n",
    "                 decoder_conv_t_strides, \n",
    "                 z_dim, \n",
    "                 use_batch_norm=False, \n",
    "                 use_dropout=False):\n",
    "        \n",
    "        self.name = 'AutoEncoder'\n",
    "\n",
    "        self.input_dim = input_dim\n",
    "        self.encoder_conv_filters = encoder_conv_filters\n",
    "        self.encoder_conv_kernel_size = encoder_conv_kernel_size\n",
    "        self.encoder_conv_strides = encoder_conv_strides\n",
    "        self.decoder_conv_t_filters = decoder_conv_t_filters\n",
    "        self.decoder_conv_t_kernel_size = decoder_conv_t_kernel_size\n",
    "        self.decoder_conv_t_strides = decoder_conv_t_strides\n",
    "        self.z_dim = z_dim\n",
    "        self.use_batch_norm = use_batch_norm\n",
    "        self.use_dropout = use_dropout\n",
    "\n",
    "        self.n_layers_encoder = len(encoder_conv_filters)\n",
    "        self.n_layers_decoder = len(decoder_conv_t_filters)\n",
    "\n",
    "        self._build()\n",
    "    \n",
    "    def _build(self):\n",
    "\n",
    "        ### BUILD ENCODER ###\n",
    "        encoder_input = Input(shape=self.input_dim, name='encoder_input')\n",
    "\n",
    "        x = encoder_input\n",
    "\n",
    "        for i in range(self.n_layers_encoder):\n",
    "            conv_layer = Conv2D(\n",
    "                filters=self.encoder_conv_filters[i], \n",
    "                kernel_size=self.encoder_conv_kernel_size[i], \n",
    "                strides=self.encoder_conv_strides[i], \n",
    "                padding='same', \n",
    "                name=f'encoder_conv_{i}'\n",
    "            )\n",
    "            x = conv_layer(x)\n",
    "            x = LeakyReLU()(x)\n",
    "\n",
    "            if self.use_batch_norm:\n",
    "                x = BatchNormalization()(x)\n",
    "            if self.use_dropout:\n",
    "                x = Dropout(rate=.25)(x)\n",
    "        \n",
    "        shape_before_flattening = tf.shape(x)[1:]\n",
    "\n",
    "        x = Flatten()(x)\n"
   ]
  }
 ],
 "metadata": {
  "interpreter": {
   "hash": "73e9a47866a8250fcba65d48743d3071ab7875fb405e53c74369a143a601cf99"
  },
  "kernelspec": {
   "display_name": "Python 3.8.12 ('tensorflow')",
   "language": "python",
   "name": "python3"
  },
  "language_info": {
   "codemirror_mode": {
    "name": "ipython",
    "version": 3
   },
   "file_extension": ".py",
   "mimetype": "text/x-python",
   "name": "python",
   "nbconvert_exporter": "python",
   "pygments_lexer": "ipython3",
   "version": "3.8.12"
  },
  "orig_nbformat": 4
 },
 "nbformat": 4,
 "nbformat_minor": 2
}
